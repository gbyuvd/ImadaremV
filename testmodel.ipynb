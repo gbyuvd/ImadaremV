{
 "cells": [
  {
   "cell_type": "code",
   "execution_count": 1,
   "id": "0508c6b5",
   "metadata": {},
   "outputs": [
    {
     "name": "stdout",
     "output_type": "stream",
     "text": [
      "Vocab size: 412\n",
      "[MASK] token ID: 4\n"
     ]
    }
   ],
   "source": [
    "import torch\n",
    "import pandas as pd\n",
    "from torch.utils.data import DataLoader\n",
    "import matplotlib.pyplot as plt\n",
    "\n",
    "# Set device\n",
    "device = \"cuda\" if torch.cuda.is_available() else \"cpu\"\n",
    "\n",
    "from transformers import AutoTokenizer\n",
    "tokenizer = AutoTokenizer.from_pretrained(\"gbyuvd/bionat-selfies-gen-tokenizer-wordlevel\")\n",
    "    \n",
    "# Ensure [MASK] token exists\n",
    "if not hasattr(tokenizer, 'mask_token_id') or tokenizer.mask_token_id is None:\n",
    "    tokenizer.add_special_tokens({'mask_token': '[MASK]'})\n",
    "\n",
    "print(f\"Vocab size: {tokenizer.vocab_size}\")\n",
    "print(f\"[MASK] token ID: {tokenizer.mask_token_id}\")"
   ]
  },
  {
   "cell_type": "code",
   "execution_count": null,
   "id": "9281c505",
   "metadata": {},
   "outputs": [],
   "source": [
    "from model import ImplicitRefinementModel, ImplicitRefinementConfig \n",
    "seq_len = 90\n",
    "config = ImplicitRefinementConfig(\n",
    "        vocab_size=tokenizer.vocab_size,\n",
    "        hidden_size=320,\n",
    "        num_layers=4,\n",
    "        num_heads=4,\n",
    "        max_seq_len=seq_len,          \n",
    "        max_refinement_steps=10,\n",
    "        dropout=0.1,\n",
    "        use_self_cond=True,\n",
    "        stop_threshold=0.02,\n",
    "        min_refine_uncertainty=0.1,\n",
    "        ema_decay=0.995,\n",
    "        diversity_weight=0.05,\n",
    "        sampling_temperature=1.0,\n",
    "        use_refine_gate=True,  # Enable internal refinement gate\n",
    "        use_gradient_checkpointing=False  # Enable for larger models\n",
    "    )\n",
    "\n",
    "model = ImplicitRefinementModel(config, tokenizer=tokenizer).to(device)\n",
    "model.init_teacher()"
   ]
  },
  {
   "cell_type": "code",
   "execution_count": 10,
   "id": "bb5588ab",
   "metadata": {},
   "outputs": [
    {
     "name": "stdout",
     "output_type": "stream",
     "text": [
      "✅ Model weights loaded successfully!\n"
     ]
    }
   ],
   "source": [
    "checkpoint_path = \"chemistrySELFIESmodelfinal.pth\"  # or \"refinement_model_z_final.pth\"\n",
    "\n",
    "torch.serialization.add_safe_globals([ImplicitRefinementConfig])\n",
    "checkpoint = torch.load(checkpoint_path, map_location=device)\n",
    "model.load_state_dict(checkpoint['model_state_dict'])\n",
    "model.eval()  # set to evaluation mode\n",
    "print(\"✅ Model weights loaded successfully!\")"
   ]
  },
  {
   "cell_type": "code",
   "execution_count": 11,
   "id": "8c8e717c",
   "metadata": {},
   "outputs": [],
   "source": [
    "def generate_and_decode(model, tokenizer, num_samples=5, max_len=90, temperature=1.0):\n",
    "    \"\"\"Generate chemistry molecules using adaptive refinement.\"\"\"\n",
    "    model.eval()\n",
    "    print(f\"\\n🧪 Generating {num_samples} SELFIES molecules...\")\n",
    "    print(f\"   Temperature: {temperature}\")\n",
    "    print(\"=\"*70)\n",
    "    \n",
    "    with torch.no_grad():\n",
    "        samples = model.sample(batch_size=2, max_len=90, device='cuda')\n",
    "    \n",
    "    # Compute actual lengths (stop at first pad or eos)\n",
    "    actual_lengths = []\n",
    "    for s in samples:\n",
    "        # Find first pad or eos\n",
    "        s_list = s if isinstance(s, list) else s.tolist()\n",
    "        length = len(s_list)\n",
    "        for i, tok in enumerate(s_list):\n",
    "            if tok == tokenizer.pad_token_id or tok == tokenizer.eos_token_id:\n",
    "                length = i\n",
    "                break\n",
    "        actual_lengths.append(torch.tensor(length))\n",
    "    \n",
    "    for i, (sample, length) in enumerate(zip(samples, actual_lengths)):\n",
    "        decoded = tokenizer.decode(sample[:length.item()], skip_special_tokens=True)\n",
    "        print(f\"{i+1}. (len={length.item()}) {decoded}\")\n",
    "    \n",
    "    print(\"=\"*70)\n"
   ]
  },
  {
   "cell_type": "code",
   "execution_count": 12,
   "id": "cbf22e69",
   "metadata": {},
   "outputs": [
    {
     "name": "stdout",
     "output_type": "stream",
     "text": [
      "\n",
      "--- Temperature: 0.8 ---\n",
      "\n",
      "🧪 Generating 5 SELFIES molecules...\n",
      "   Temperature: 0.8\n",
      "======================================================================\n",
      "✅ Stopped at step 3 (change: 0.00%)\n",
      "1. (len=65) [O] [=O] [#Branch2] [=Branch1] [=C] [Branch2] [=C] [C] [C] [Ring1] [C] [N] [C] [=O] [=O] [=Branch1] [C] [=C] [C] [=Branch1] [C] [=C] [C] [C] [Branch2] [C] [Branch1] [Ring1] [=C] [=C] [N] [Ring1] [Ring1] [Branch1] [NH1] [C] [C] [O] [C] [C] [C] [C] [C] [Branch1] [C] [=C] [=Branch1] [#C] [C] [=Branch2] [Ring1] [C] [Ring2] [Ring1] [C] [Branch1] [#Branch1] [C] [Ring1] [C] [C] [C] [C] [O]\n",
      "2. (len=62) [Cl] [O] [=C] [=C] [C] [=C] [Branch1] [C] [=C] [C] [N] [=Branch1] [Ring2] [=O] [C] [Branch1] [C] [Branch1] [C] [=C] [C] [Branch1] [=Branch1] [C] [=O] [#C] [=C] [=Branch1] [C] [N] [Branch1] [Ring1] [=C] [C] [C] [=Branch1] [Ring1] [O] [O] [C] [C] [Ring2] [C] [Ring1] [Ring1] [=C] [=Branch1] [C] [C] [=C] [O] [Cl] [C] [=N] [C] [C] [Ring2] [Ring2] [O] [P] [O]\n",
      "======================================================================\n",
      "\n",
      "--- Temperature: 1.0 ---\n",
      "\n",
      "🧪 Generating 5 SELFIES molecules...\n",
      "   Temperature: 1.0\n",
      "======================================================================\n",
      "✅ Stopped at step 3 (change: 0.00%)\n",
      "1. (len=61) [C] [O] [=C] [=C] [C] [C] [=O] [C] [Ring2] [N] [C] [=C] [Ring2] [N] [=C] [C] [=C] [N] [C] [Branch1] [C] [Branch1] [C] [Ring1] [=C] [S] [=C] [C] [=C] [C] [C] [C] [C] [C] [=O] [=C] [C] [C] [C] [=Branch1] [=Branch2] [=N] [C] [Branch1] [C] [C] [C] [C] [C] [Ring2] [Ring1] [Ring2] [Ring1] [F] [C] [=C] [=C] [Ring1] [#C] [Ring2]\n",
      "2. (len=62) [C] [O] [=C] [C] [C] [Ring2] [C] [=Branch2] [Ring2] [C] [C] [Branch2] [C] [C] [=O] [Branch1] [C] [C] [C] [=Branch1] [Branch1] [=C] [C] [C] [=O] [Branch1] [N] [C] [=N] [C] [C] [=Branch1] [C] [=Branch1] [N] [Ring1] [Cl] [C] [C] [=O] [Ring2] [C] [=C] [C] [C] [=C] [C] [Branch1] [O] [=C] [Ring2] [C] [Ring2] [Branch1] [Ring2] [Ring2] [=Branch1] [Ring1] [=N] [Ring1] [Branch2]\n",
      "======================================================================\n",
      "\n",
      "--- Temperature: 1.2 ---\n",
      "\n",
      "🧪 Generating 5 SELFIES molecules...\n",
      "   Temperature: 1.2\n",
      "======================================================================\n",
      "✅ Stopped at step 3 (change: 0.00%)\n",
      "1. (len=62) [C] [C] [C] [C] [C] [C] [P] [C] [C] [O] [Branch1] [C] [=C] [C] [Ring1] [=C] [C] [Branch1] [Ring1] [C] [C] [=Branch1] [N] [C] [C] [Branch1] [=C] [C] [C] [C] [Branch1] [Ring1] [C] [C] [C] [N] [C] [O] [C] [C] [C] [C] [C] [=Ring2] [C] [=C] [C] [O] [O] [Ring2] [C] [Ring1] [Ring1] [Ring2] [C] [C] [Ring2] [=Branch2] [Ring1] [Branch1] [P]\n",
      "2. (len=61) [O] [C] [=C] [=C] [C] [C] [Ring2] [Branch2] [C] [S] [Branch1] [C] [C] [C] [O] [Ring1] [Branch2] [Ring1] [Ring2] [Branch1] [C] [=C] [Branch1] [Branch1] [Branch1] [C] [Ring1] [O] [=Branch1] [C] [C] [Ring1] [Branch1] [Branch1] [O] [N] [=O] [C] [S] [Branch1] [C] [=C] [Ring1] [Branch1] [C] [=Branch2] [=C] [C] [C] [C] [Ring1] [C] [=C] [=C] [C] [=C] [Ring2] [C] [Ring2] [=O]\n",
      "======================================================================\n"
     ]
    }
   ],
   "source": [
    "# Try different temperatures\n",
    "for temp in [0.8, 1.0, 1.2]:\n",
    "    print(f\"\\n--- Temperature: {temp} ---\")\n",
    "    generate_and_decode(\n",
    "        model=model,\n",
    "        tokenizer=tokenizer,\n",
    "        num_samples=5,\n",
    "        temperature=temp\n",
    "    )"
   ]
  },
  {
   "cell_type": "code",
   "execution_count": 13,
   "id": "9a4108d4",
   "metadata": {},
   "outputs": [
    {
     "name": "stdout",
     "output_type": "stream",
     "text": [
      "ClOC=CC=C(C)CN(OC)C1=CC(C=O)CN(CC)C(OO2)CC21CC=COCl\n"
     ]
    }
   ],
   "source": [
    "import selfies as sf\n",
    "\n",
    "tokens = \"[Cl] [O] [=C] [=C] [C] [=C] [Branch1] [C] [=C] [C] [N] [=Branch1] [Ring2] [=O] [C] [Branch1] [C] [Branch1] [C] [=C] [C] [Branch1] [=Branch1] [C] [=O] [#C] [=C] [=Branch1] [C] [N] [Branch1] [Ring1] [=C] [C] [C] [=Branch1] [Ring1] [O] [O] [C] [C] [Ring2] [C] [Ring1] [Ring1] [=C] [=Branch1] [C] [C] [=C] [O] [Cl] [C] [=N] [C] [C] [Ring2] [Ring2] [O] [P] [O]\"\n",
    "tokens = tokens.replace(\" \", \"\")\n",
    "print(sf.decoder(tokens))"
   ]
  },
  {
   "cell_type": "code",
   "execution_count": 14,
   "id": "c4878186",
   "metadata": {},
   "outputs": [
    {
     "name": "stdout",
     "output_type": "stream",
     "text": [
      "🔍 Refinement Trajectory (INTERNAL GATE)\n",
      "\n",
      "t=0: [MASK] [MASK] [MASK] [MASK] [MASK] [MASK] [MASK] [MASK] [MASK] [MASK] [MASK] [MASK] [MASK] [MASK] [MASK] [MASK]\n",
      "        ↑ ↑ ↑ ↑ ↑ ↑ ↑ ↑ ↑ ↑ ↑ ↑ ↑ ↑ ↑ ↑\n",
      "       Gate: 1.00 1.00 1.00 1.00 1.00 1.00 1.00 1.00 1.00 1.00 1.00 1.00 1.00 1.00 1.00 1.00\n",
      "t=1: [MASK] [MASK] [ [6]] [[10]] [ [5]] [ [5]] [ [5]] [[14]] [ [8]] [ [5]] [ [6]] [ [5]] [ [5]] [[22]] [[37]] [ [5]]\n",
      "            ↑ ↑ ↑ ↑ ↑ ↑ ↑ ↑ ↑ ↑ ↑ ↑ ↑ ↑\n",
      "       Gate: 0.06 0.21 0.83 0.93 0.96 0.97 0.97 0.97 0.96 0.96 0.96 0.97 0.97 0.97 0.97 0.97\n",
      "t=2: [MASK] [MASK] [ [9]] [[10]] [ [5]] [ [5]] [ [5]] [[13]] [ [9]] [ [5]] [[10]] [ [5]] [ [5]] [ [5]] [ [5]] [[13]]\n",
      "            ↑ ↑ ↑ ↑ ↑ ↑ ↑ ↑ ↑ ↑ ↑ ↑ ↑ ↑\n",
      "       Gate: 0.05 0.23 0.88 0.96 0.98 0.98 0.99 0.99 0.98 0.98 0.98 0.98 0.98 0.98 0.98 0.98\n",
      "t=3: [MASK] [MASK] [ [5]] [[18]] [ [6]] [ [5]] [ [5]] [ [7]] [ [8]] [ [5]] [[33]] [[12]] [ [6]] [ [7]] [[10]] [ [8]]\n",
      "            ↑ ↑ ↑ ↑ ↑ ↑ ↑ ↑ ↑ ↑ ↑ ↑ ↑ ↑\n",
      "       Gate: 0.05 0.21 0.86 0.96 0.98 0.98 0.98 0.98 0.98 0.98 0.98 0.98 0.98 0.98 0.98 0.98\n",
      "t=4: [MASK] [MASK] [ [5]] [ [6]] [[10]] [[12]] [[14]] [ [5]] [ [7]] [ [5]] [[10]] [[14]] [ [5]] [ [5]] [[12]] [ [5]]\n",
      "            ↑ ↑ ↑ ↑ ↑ ↑ ↑ ↑ ↑ ↑ ↑ ↑ ↑ ↑\n",
      "       Gate: 0.04 0.17 0.85 0.95 0.97 0.98 0.98 0.98 0.98 0.98 0.98 0.98 0.98 0.98 0.98 0.98\n",
      "t=5: [MASK] [MASK] [ [9]] [ [8]] [ [5]] [ [9]] [ [5]] [ [8]] [ [5]] [[14]] [ [5]] [ [5]] [ [5]] [ [5]] [[15]] [ [6]]\n",
      "            ↑ ↑ ↑ ↑ ↑ ↑ ↑ ↑ ↑ ↑ ↑ ↑ ↑ ↑\n",
      "       Gate: 0.04 0.17 0.84 0.95 0.97 0.98 0.98 0.98 0.97 0.97 0.98 0.98 0.98 0.98 0.97 0.98\n",
      "t=6: [MASK] [MASK] [ [9]] [ [5]] [ [8]] [ [7]] [[13]] [[13]] [ [9]] [ [5]] [[14]] [[13]] [[13]] [ [5]] [[18]] [ [5]]\n",
      "            ↑ ↑ ↑ ↑ ↑ ↑ ↑ ↑ ↑ ↑ ↑ ↑ ↑ ↑\n",
      "       Gate: 0.04 0.16 0.81 0.95 0.97 0.98 0.98 0.98 0.97 0.97 0.97 0.98 0.98 0.98 0.98 0.98\n",
      "t=7: [MASK] [MASK] [ [5]] [ [6]] [ [6]] [ [5]] [ [9]] [ [5]] [ [5]] [ [5]] [ [7]] [[16]] [ [5]] [ [9]] [ [5]] [ [7]]\n",
      "            ↑ ↑ ↑ ↑ ↑ ↑ ↑ ↑ ↑ ↑ ↑ ↑ ↑ ↑\n",
      "       Gate: 0.03 0.15 0.81 0.94 0.97 0.98 0.98 0.98 0.97 0.97 0.97 0.98 0.98 0.98 0.97 0.97\n",
      "t=8: [MASK] [MASK] [ [5]] [ [5]] [ [8]] [[18]] [[13]] [ [5]] [[13]] [ [5]] [[10]] [ [5]] [[18]] [ [5]] [ [5]] [ [7]]\n",
      "            ↑ ↑ ↑ ↑ ↑ ↑ ↑ ↑ ↑ ↑ ↑ ↑ ↑ ↑\n",
      "       Gate: 0.03 0.14 0.79 0.93 0.96 0.97 0.97 0.97 0.96 0.96 0.96 0.97 0.97 0.97 0.97 0.96\n",
      "t=9: [MASK] [MASK] [[11]] [ [6]] [[11]] [ [5]] [ [5]] [ [5]] [ [5]] [ [8]] [[15]] [ [5]] [[10]] [[10]] [[14]] [[11]]\n",
      "            ↑ ↑ ↑ ↑ ↑ ↑ ↑ ↑ ↑ ↑ ↑ ↑ ↑ ↑\n",
      "       Gate: 0.03 0.14 0.78 0.93 0.96 0.97 0.97 0.97 0.96 0.96 0.97 0.97 0.97 0.97 0.97 0.96\n",
      "t=10: [MASK] [MASK] [ [5]] [ [5]] [[16]] [ [6]] [ [5]] [ [7]] [[13]] [[13]] [ [5]] [[10]] [ [5]] [ [5]] [ [7]] [[10]]\n",
      "            ↑ ↑ ↑ ↑ ↑ ↑ ↑ ↑ ↑ ↑ ↑ ↑ ↑ ↑\n",
      "       Gate: 0.03 0.14 0.78 0.93 0.96 0.98 0.98 0.97 0.97 0.97 0.97 0.97 0.98 0.98 0.97 0.97\n",
      "                                        ← change_ratio=81.2% → ⏹️ Max steps\n",
      "\n",
      "Final: '<mask> <mask> [C] [C] [#Branch1] [=C] [C] [Ring1] [Ring2] [Ring2] [C] [=Branch1] [C] [C] [Ring1] [=Branch1]'\n"
     ]
    }
   ],
   "source": [
    "model.eval()\n",
    "analysis = model.analyze_refinement_trajectory(\n",
    "    max_len=16,\n",
    "    device='cuda',\n",
    "    seed=22\n",
    ")\n",
    "model.print_refinement_trajectory(analysis, tokenizer=tokenizer)"
   ]
  },
  {
   "cell_type": "code",
   "execution_count": null,
   "id": "0f972273",
   "metadata": {},
   "outputs": [],
   "source": []
  }
 ],
 "metadata": {
  "kernelspec": {
   "display_name": "base",
   "language": "python",
   "name": "python3"
  },
  "language_info": {
   "codemirror_mode": {
    "name": "ipython",
    "version": 3
   },
   "file_extension": ".py",
   "mimetype": "text/x-python",
   "name": "python",
   "nbconvert_exporter": "python",
   "pygments_lexer": "ipython3",
   "version": "3.13.0"
  }
 },
 "nbformat": 4,
 "nbformat_minor": 5
}
