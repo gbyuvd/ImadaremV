{
 "cells": [
  {
   "cell_type": "code",
   "execution_count": 1,
   "id": "0508c6b5",
   "metadata": {},
   "outputs": [
    {
     "name": "stdout",
     "output_type": "stream",
     "text": [
      "Vocab size: 412\n",
      "[MASK] token ID: 4\n"
     ]
    }
   ],
   "source": [
    "import torch\n",
    "import pandas as pd\n",
    "from torch.utils.data import DataLoader\n",
    "import matplotlib.pyplot as plt\n",
    "\n",
    "# Set device\n",
    "device = \"cuda\" if torch.cuda.is_available() else \"cpu\"\n",
    "\n",
    "from transformers import AutoTokenizer\n",
    "tokenizer = AutoTokenizer.from_pretrained(\"gbyuvd/bionat-selfies-gen-tokenizer-wordlevel\")\n",
    "    \n",
    "# Ensure [MASK] token exists\n",
    "if not hasattr(tokenizer, 'mask_token_id') or tokenizer.mask_token_id is None:\n",
    "    tokenizer.add_special_tokens({'mask_token': '[MASK]'})\n",
    "\n",
    "print(f\"Vocab size: {tokenizer.vocab_size}\")\n",
    "print(f\"[MASK] token ID: {tokenizer.mask_token_id}\")"
   ]
  },
  {
   "cell_type": "code",
   "execution_count": null,
   "id": "9281c505",
   "metadata": {},
   "outputs": [],
   "source": [
    "from model import ImplicitRefinementModel, ImplicitRefinementConfig \n",
    "seq_len = 90\n",
    "config = ImplicitRefinementConfig(\n",
    "        vocab_size=tokenizer.vocab_size,\n",
    "        hidden_size=320,\n",
    "        num_layers=6,\n",
    "        num_heads=4,\n",
    "        max_seq_len=seq_len,          \n",
    "        max_refinement_steps=10,\n",
    "        dropout=0.1,\n",
    "        use_self_cond=True,\n",
    "        stop_threshold=0.02,\n",
    "        min_refine_uncertainty=0.1,\n",
    "        ema_decay=0.995,\n",
    "        diversity_weight=0.05,\n",
    "        sampling_temperature=1.0,\n",
    "        use_refine_gate=True,  # Enable internal refinement gate\n",
    "        use_gradient_checkpointing=False  # Enable for larger models\n",
    "    )\n",
    "\n",
    "model = ImplicitRefinementModel(config, tokenizer=tokenizer).to(device)"
   ]
  },
  {
   "cell_type": "code",
   "execution_count": 4,
   "id": "bb5588ab",
   "metadata": {},
   "outputs": [
    {
     "ename": "NameError",
     "evalue": "name 'chemistrySELFIESmodelfinal' is not defined",
     "output_type": "error",
     "traceback": [
      "\u001b[31m---------------------------------------------------------------------------\u001b[39m",
      "\u001b[31mNameError\u001b[39m                                 Traceback (most recent call last)",
      "\u001b[36mCell\u001b[39m\u001b[36m \u001b[39m\u001b[32mIn[4]\u001b[39m\u001b[32m, line 3\u001b[39m\n\u001b[32m      1\u001b[39m checkpoint_path = \u001b[33m\"\u001b[39m\u001b[33mbest_chemistrySELFIESmodel.pth\u001b[39m\u001b[33m\"\u001b[39m  \u001b[38;5;66;03m# or \"refinement_model_z_final.pth\"\u001b[39;00m\n\u001b[32m----> \u001b[39m\u001b[32m3\u001b[39m torch.serialization.add_safe_globals([\u001b[43mchemistrySELFIESmodelfinal\u001b[49m])\n\u001b[32m      4\u001b[39m checkpoint = torch.load(checkpoint_path, map_location=device)\n\u001b[32m      5\u001b[39m model.load_state_dict(checkpoint[\u001b[33m'\u001b[39m\u001b[33mmodel_state_dict\u001b[39m\u001b[33m'\u001b[39m])\n",
      "\u001b[31mNameError\u001b[39m: name 'chemistrySELFIESmodelfinal' is not defined"
     ]
    }
   ],
   "source": [
    "checkpoint_path = \"best_chemistrySELFIESmodel.pth\"  # or \"refinement_model_z_final.pth\"\n",
    "\n",
    "torch.serialization.add_safe_globals([chemistrySELFIESmodelfinal])\n",
    "checkpoint = torch.load(checkpoint_path, map_location=device)\n",
    "model.load_state_dict(checkpoint['model_state_dict'])\n",
    "model.eval()  # set to evaluation mode\n",
    "print(\"✅ Model weights loaded successfully!\")"
   ]
  },
  {
   "cell_type": "code",
   "execution_count": 6,
   "id": "8c8e717c",
   "metadata": {},
   "outputs": [],
   "source": [
    "def generate_and_decode(model, tokenizer, num_samples=5, max_len=90, temperature=1.0):\n",
    "    \"\"\"Generate chemistry molecules using adaptive refinement.\"\"\"\n",
    "    model.eval()\n",
    "    print(f\"\\n🧪 Generating {num_samples} SELFIES molecules...\")\n",
    "    print(f\"   Temperature: {temperature}\")\n",
    "    print(\"=\"*70)\n",
    "    \n",
    "    with torch.no_grad():\n",
    "        samples = model.sample(batch_size=2, max_len=90, device='cuda')\n",
    "    \n",
    "    # Compute actual lengths (stop at first pad or eos)\n",
    "    actual_lengths = []\n",
    "    for s in samples:\n",
    "        # Find first pad or eos\n",
    "        s_list = s if isinstance(s, list) else s.tolist()\n",
    "        length = len(s_list)\n",
    "        for i, tok in enumerate(s_list):\n",
    "            if tok == tokenizer.pad_token_id or tok == tokenizer.eos_token_id:\n",
    "                length = i\n",
    "                break\n",
    "        actual_lengths.append(torch.tensor(length))\n",
    "    \n",
    "    for i, (sample, length) in enumerate(zip(samples, actual_lengths)):\n",
    "        decoded = tokenizer.decode(sample[:length.item()], skip_special_tokens=True)\n",
    "        print(f\"{i+1}. (len={length.item()}) {decoded}\")\n",
    "    \n",
    "    print(\"=\"*70)\n"
   ]
  },
  {
   "cell_type": "code",
   "execution_count": 12,
   "id": "cbf22e69",
   "metadata": {},
   "outputs": [
    {
     "name": "stdout",
     "output_type": "stream",
     "text": [
      "\n",
      "--- Temperature: 0.8 ---\n",
      "\n",
      "🧪 Generating 5 SELFIES molecules...\n",
      "   Temperature: 0.8\n",
      "======================================================================\n",
      "✅ Stopped at step 3 (change: 0.00%)\n",
      "1. (len=19) [C] [C] [C] [C] [C] [C] [C] [C] [C] [C] [=Branch1] [C] [C] [C] [=C] [C] [C] [=C]\n",
      "2. (len=47) [C] [=C] [C] [C] [=C] [=C] [C] [Ring2] [C] [=Branch2] [N] [C] [C] [C] [=Branch1] [C] [C] [Branch1] [=C] [O] [C] [C] [C] [C] [Ring1] [=C] [N] [C] [Branch2] [Branch2] [C] [C] [C] [O] [C] [=C] [C] [C] [O] [C] [Ring1] [C] [C] [=C] [Branch1] [C]\n",
      "======================================================================\n",
      "\n",
      "--- Temperature: 1.0 ---\n",
      "\n",
      "🧪 Generating 5 SELFIES molecules...\n",
      "   Temperature: 1.0\n",
      "======================================================================\n",
      "✅ Stopped at step 5 (change: 0.00%)\n",
      "1. (len=42) [C] [C] [C] [C] [#C] [C] [Ring1] [Branch1] [C] [C] [C] [O] [=Branch1] [C] [C] [=C] [C] [C] [C] [C] [C] [C] [C] [C] [=C] [C] [=C] [=C] [O] [Ring2] [C] [Ring1] [=O] [Branch2] [O] [C] [Ring1] [C] [=Branch1] [S] [=C]\n",
      "2. (len=50) [C] [C] [C] [C] [=C] [=O] [C] [Ring2] [=Branch1] [C] [=C] [C] [=Branch1] [=C] [=C] [C] [O] [N] [=C] [=C] [NH1] [C] [N] [C] [C] [Ring1] [=C] [C] [O] [C] [C] [C] [=C] [C] [C] [C] [C] [Ring2] [C] [Ring1] [C] [C] [=C] [Ring2] [C] [O] [Ring2] [C] [C]\n",
      "======================================================================\n",
      "\n",
      "--- Temperature: 1.2 ---\n",
      "\n",
      "🧪 Generating 5 SELFIES molecules...\n",
      "   Temperature: 1.2\n",
      "======================================================================\n",
      "✅ Stopped at step 3 (change: 0.00%)\n",
      "1. (len=43) [O] [O] [C] [=C] [C] [C] [C] [C] [=C] [C] [N] [S] [=C] [C] [C] [C] [O] [C] [=C] [Branch1] [O] [C] [=Branch1] [C] [C] [C] [=N] [C] [=Branch1] [=Branch1] [C] [=Branch1] [C] [O] [C] [C] [Ring1] [Ring2] [C] [=C] [Ring1] [Ring2]\n",
      "2. (len=54) [C] [O] [C] [C] [C] [Ring1] [=C] [=C] [=Branch1] [=N] [C] [Branch2] [=C] [=C] [=C] [Ring1] [=O] [C] [C] [Ring1] [=Branch1] [C] [C] [C] [=C] [C] [C] [C] [C] [C] [=C] [=C] [C] [=C] [C] [C] [Ring1] [C] [C] [=N] [C] [C] [C] [C] [C] [C] [C] [N] [C] [C] [C] [C] [C]\n",
      "======================================================================\n"
     ]
    }
   ],
   "source": [
    "# Try different temperatures\n",
    "for temp in [0.8, 1.0, 1.2]:\n",
    "    print(f\"\\n--- Temperature: {temp} ---\")\n",
    "    generate_and_decode(\n",
    "        model=model,\n",
    "        tokenizer=tokenizer,\n",
    "        num_samples=5,\n",
    "        temperature=temp\n",
    "    )"
   ]
  },
  {
   "cell_type": "code",
   "execution_count": 3,
   "id": "9a4108d4",
   "metadata": {},
   "outputs": [
    {
     "name": "stdout",
     "output_type": "stream",
     "text": [
      "CF\n"
     ]
    }
   ],
   "source": [
    "import selfies as sf\n",
    "\n",
    "tokens = \"[C] [=C] [=C] [C] [C] [Branch2] [C] [Ring1] [=C] [C] [C] [C] [C] [C] [C] [C] [C] [=C] [C] [N] [Branch1] [C] [C] [C] [=Branch1] [C] [Branch2] [C] [C] [C] [C] [Ring1] [C] [#Branch2] [C] [C] [Branch1] [Branch2] [C] [C] [C] [C] [C] [Branch1] [Ring1] [C] [C] [C] [C] [=C] [C] [Ring1] [C] [Branch1] [C] [Ring2] [=C] [Ring2] [Ring2] [C] [C]\"\n",
    "tokens = tokens.replace(\" \", \"\")\n",
    "print(sf.decoder(tokens))"
   ]
  },
  {
   "cell_type": "code",
   "execution_count": 18,
   "id": "c4878186",
   "metadata": {},
   "outputs": [
    {
     "name": "stdout",
     "output_type": "stream",
     "text": [
      "🔍 Refinement Trajectory (INTERNAL GATE)\n",
      "\n",
      "t=0: [MASK] [MASK] [MASK] [MASK] [MASK] [MASK] [MASK] [MASK] [MASK] [MASK] [MASK] [MASK] [MASK] [MASK] [MASK] [MASK]\n",
      "        ↑ ↑ ↑ ↑ ↑ ↑ ↑ ↑ ↑ ↑ ↑ ↑ ↑ ↑ ↑ ↑\n",
      "       Gate: 1.00 1.00 1.00 1.00 1.00 1.00 1.00 1.00 1.00 1.00 1.00 1.00 1.00 1.00 1.00 1.00\n",
      "t=1: [ [3]] [ [5]] [ [5]] [[22]] [ [5]] [ [5]] [ [5]] [ [7]] [ [8]] [[15]] [ [7]] [ [7]] [ [5]] [[22]] [ [5]] [ [5]]\n",
      "        ↑ ↑ ↑ ↑ ↑ ↑ ↑ ↑ ↑ ↑ ↑ ↑ ↑ ↑ ↑ ↑\n",
      "       Gate: 0.74 0.93 0.94 0.92 0.92 0.92 0.92 0.92 0.92 0.92 0.92 0.91 0.91 0.91 0.91 0.92\n",
      "t=2: [ [3]] [ [5]] [ [9]] [ [5]] [ [5]] [ [5]] [ [5]] [[13]] [ [9]] [[15]] [[10]] [ [5]] [ [5]] [ [5]] [ [5]] [ [5]]\n",
      "          ↑ ↑ ↑ ↑ ↑ ↑ ↑ ↑   ↑ ↑ ↑ ↑ ↑ ↑\n",
      "       Gate: 0.26 0.58 0.74 0.84 0.72 0.73 0.75 0.63 0.80 0.49 0.62 0.60 0.72 0.84 0.73 0.75\n",
      "t=3: [ [3]] [ [5]] [ [5]] [[18]] [ [5]] [ [5]] [ [5]] [ [7]] [ [8]] [[15]] [[33]] [ [6]] [ [6]] [ [7]] [ [5]] [ [8]]\n",
      "          ↑ ↑ ↑ ↑ ↑ ↑ ↑ ↑   ↑ ↑ ↑ ↑ ↑ ↑\n",
      "       Gate: 0.29 0.52 0.77 0.63 0.62 0.62 0.65 0.70 0.71 0.34 0.82 0.61 0.62 0.77 0.63 0.65\n",
      "t=4: [ [3]] [ [5]] [ [5]] [ [5]] [ [5]] [ [5]] [ [5]] [ [7]] [ [6]] [[15]] [ [7]] [ [6]] [ [5]] [ [7]] [ [5]] [ [5]]\n",
      "          ↑ ↑ ↑ ↑ ↑ ↑   ↑   ↑   ↑ ↑   ↑\n",
      "       Gate: 0.30 0.52 0.55 0.58 0.50 0.50 0.52 0.47 0.68 0.22 0.85 0.46 0.50 0.91 0.50 0.65\n",
      "t=5: [ [3]] [ [5]] [ [5]] [ [5]] [ [5]] [ [5]] [ [5]] [ [7]] [ [6]] [[15]] [ [7]] [ [6]] [ [5]] [ [7]] [ [5]] [ [5]]\n",
      "                            ↑     ↑    \n",
      "       Gate: 0.40 0.48 0.48 0.44 0.42 0.42 0.44 0.49 0.36 0.16 0.87 0.39 0.40 0.85 0.41 0.40\n",
      "                                        ← change_ratio=0.0% → ✅ Early stop\n",
      "\n",
      "Final: '<s> [C] [C] [C] [C] [C] [C] [Ring1] [=C] [=N] [Ring1] [=C] [C] [Ring1] [C] [C]'\n"
     ]
    }
   ],
   "source": [
    "model.eval()\n",
    "analysis = model.analyze_refinement_trajectory(\n",
    "    max_len=16,\n",
    "    device='cuda',\n",
    "    seed=22\n",
    ")\n",
    "model.print_refinement_trajectory(analysis, tokenizer=tokenizer)"
   ]
  },
  {
   "cell_type": "code",
   "execution_count": null,
   "id": "0f972273",
   "metadata": {},
   "outputs": [],
   "source": []
  }
 ],
 "metadata": {
  "kernelspec": {
   "display_name": "base",
   "language": "python",
   "name": "python3"
  },
  "language_info": {
   "codemirror_mode": {
    "name": "ipython",
    "version": 3
   },
   "file_extension": ".py",
   "mimetype": "text/x-python",
   "name": "python",
   "nbconvert_exporter": "python",
   "pygments_lexer": "ipython3",
   "version": "3.13.0"
  }
 },
 "nbformat": 4,
 "nbformat_minor": 5
}
